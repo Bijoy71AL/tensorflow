{
  "cells": [
    {
      "cell_type": "code",
      "execution_count": null,
      "metadata": {
        "id": "oNremEzFpwXG"
      },
      "outputs": [],
      "source": [
        "import tensorflow as tf\n",
        "from tensorflow.keras.datasets import fashion_mnist\n",
        "\n",
        "(train_data, train_labels), (test_data, test_labels) = fashion_mnist.load_data()"
      ]
    },
    {
      "cell_type": "code",
      "execution_count": null,
      "metadata": {
        "colab": {
          "base_uri": "https://localhost:8080/"
        },
        "id": "NnoctKdKuTFd",
        "outputId": "c3d31e3a-a3a4-4d94-b776-bb55e89325cf"
      },
      "outputs": [
        {
          "name": "stdout",
          "output_type": "stream",
          "text": [
            "training sample:\n",
            "[[  0   0   0   0   0   0   0   0   0   0   0   0   0   0   0   0   0   0\n",
            "    0   0   0   0   0   0   0   0   0   0]\n",
            " [  0   0   0   0   0   0   0   0   0   0   0   0   0   0   0   0   0   0\n",
            "    0   0   0   0   0   0   0   0   0   0]\n",
            " [  0   0   0   0   0   0   0   0   0   0   0   0   0   0   0   0   0   0\n",
            "    0   0   0   0   0   0   0   0   0   0]\n",
            " [  0   0   0   0   0   0   0   0   0   0   0   0   1   0   0  13  73   0\n",
            "    0   1   4   0   0   0   0   1   1   0]\n",
            " [  0   0   0   0   0   0   0   0   0   0   0   0   3   0  36 136 127  62\n",
            "   54   0   0   0   1   3   4   0   0   3]\n",
            " [  0   0   0   0   0   0   0   0   0   0   0   0   6   0 102 204 176 134\n",
            "  144 123  23   0   0   0   0  12  10   0]\n",
            " [  0   0   0   0   0   0   0   0   0   0   0   0   0   0 155 236 207 178\n",
            "  107 156 161 109  64  23  77 130  72  15]\n",
            " [  0   0   0   0   0   0   0   0   0   0   0   1   0  69 207 223 218 216\n",
            "  216 163 127 121 122 146 141  88 172  66]\n",
            " [  0   0   0   0   0   0   0   0   0   1   1   1   0 200 232 232 233 229\n",
            "  223 223 215 213 164 127 123 196 229   0]\n",
            " [  0   0   0   0   0   0   0   0   0   0   0   0   0 183 225 216 223 228\n",
            "  235 227 224 222 224 221 223 245 173   0]\n",
            " [  0   0   0   0   0   0   0   0   0   0   0   0   0 193 228 218 213 198\n",
            "  180 212 210 211 213 223 220 243 202   0]\n",
            " [  0   0   0   0   0   0   0   0   0   1   3   0  12 219 220 212 218 192\n",
            "  169 227 208 218 224 212 226 197 209  52]\n",
            " [  0   0   0   0   0   0   0   0   0   0   6   0  99 244 222 220 218 203\n",
            "  198 221 215 213 222 220 245 119 167  56]\n",
            " [  0   0   0   0   0   0   0   0   0   4   0   0  55 236 228 230 228 240\n",
            "  232 213 218 223 234 217 217 209  92   0]\n",
            " [  0   0   1   4   6   7   2   0   0   0   0   0 237 226 217 223 222 219\n",
            "  222 221 216 223 229 215 218 255  77   0]\n",
            " [  0   3   0   0   0   0   0   0   0  62 145 204 228 207 213 221 218 208\n",
            "  211 218 224 223 219 215 224 244 159   0]\n",
            " [  0   0   0   0  18  44  82 107 189 228 220 222 217 226 200 205 211 230\n",
            "  224 234 176 188 250 248 233 238 215   0]\n",
            " [  0  57 187 208 224 221 224 208 204 214 208 209 200 159 245 193 206 223\n",
            "  255 255 221 234 221 211 220 232 246   0]\n",
            " [  3 202 228 224 221 211 211 214 205 205 205 220 240  80 150 255 229 221\n",
            "  188 154 191 210 204 209 222 228 225   0]\n",
            " [ 98 233 198 210 222 229 229 234 249 220 194 215 217 241  65  73 106 117\n",
            "  168 219 221 215 217 223 223 224 229  29]\n",
            " [ 75 204 212 204 193 205 211 225 216 185 197 206 198 213 240 195 227 245\n",
            "  239 223 218 212 209 222 220 221 230  67]\n",
            " [ 48 203 183 194 213 197 185 190 194 192 202 214 219 221 220 236 225 216\n",
            "  199 206 186 181 177 172 181 205 206 115]\n",
            " [  0 122 219 193 179 171 183 196 204 210 213 207 211 210 200 196 194 191\n",
            "  195 191 198 192 176 156 167 177 210  92]\n",
            " [  0   0  74 189 212 191 175 172 175 181 185 188 189 188 193 198 204 209\n",
            "  210 210 211 188 188 194 192 216 170   0]\n",
            " [  2   0   0   0  66 200 222 237 239 242 246 243 244 221 220 193 191 179\n",
            "  182 182 181 176 166 168  99  58   0   0]\n",
            " [  0   0   0   0   0   0   0  40  61  44  72  41  35   0   0   0   0   0\n",
            "    0   0   0   0   0   0   0   0   0   0]\n",
            " [  0   0   0   0   0   0   0   0   0   0   0   0   0   0   0   0   0   0\n",
            "    0   0   0   0   0   0   0   0   0   0]\n",
            " [  0   0   0   0   0   0   0   0   0   0   0   0   0   0   0   0   0   0\n",
            "    0   0   0   0   0   0   0   0   0   0]]\n",
            "\n",
            "training label:\n",
            "9\n",
            "\n"
          ]
        }
      ],
      "source": [
        "print(f\"training sample:\\n{train_data[0]}\\n\")\n",
        "print(f\"training label:\\n{train_labels[0]}\\n\")"
      ]
    },
    {
      "cell_type": "code",
      "execution_count": null,
      "metadata": {
        "colab": {
          "base_uri": "https://localhost:8080/"
        },
        "id": "ZBwP_UdRvZIX",
        "outputId": "24fe59cf-0e7f-4a61-f305-fc0c6f692620"
      },
      "outputs": [
        {
          "data": {
            "text/plain": [
              "((28, 28), ())"
            ]
          },
          "execution_count": 329,
          "metadata": {},
          "output_type": "execute_result"
        }
      ],
      "source": [
        "train_data[0].shape, train_labels[0].shape"
      ]
    },
    {
      "cell_type": "code",
      "execution_count": null,
      "metadata": {
        "colab": {
          "base_uri": "https://localhost:8080/",
          "height": 447
        },
        "id": "CZE7_Rsqv3M8",
        "outputId": "f0d2eef9-552b-47e8-8d6e-266e4f603abd"
      },
      "outputs": [
        {
          "data": {
            "text/plain": [
              "<matplotlib.image.AxesImage at 0x7f41a96409d0>"
            ]
          },
          "execution_count": 330,
          "metadata": {},
          "output_type": "execute_result"
        },
        {
          "data": {
            "image/png": "[encoded data removed]",
            "text/plain": [
              "<Figure size 640x480 with 1 Axes>"
            ]
          },
          "metadata": {},
          "output_type": "display_data"
        }
      ],
      "source": [
        "import matplotlib.pyplot as plt\n",
        "plt.imshow(train_data[0])"
      ]
    },
    {
      "cell_type": "code",
      "execution_count": null,
      "metadata": {
        "colab": {
          "base_uri": "https://localhost:8080/",
          "height": 447
        },
        "id": "muUzspjQwSrv",
        "outputId": "1abf52cf-8519-4e54-eb79-99cd441d8ea6"
      },
      "outputs": [
        {
          "data": {
            "text/plain": [
              "<matplotlib.image.AxesImage at 0x7f4160b0b310>"
            ]
          },
          "execution_count": 331,
          "metadata": {},
          "output_type": "execute_result"
        },
        {
          "data": {
            "image/png": "[encoded data removed]",
            "text/plain": [
              "<Figure size 640x480 with 1 Axes>"
            ]
          },
          "metadata": {},
          "output_type": "display_data"
        }
      ],
      "source": [
        "import matplotlib.pyplot as plt\n",
        "plt.imshow(train_data[7])"
      ]
    },
    {
      "cell_type": "code",
      "execution_count": null,
      "metadata": {
        "colab": {
          "base_uri": "https://localhost:8080/"
        },
        "id": "wYnE_g1wwdtC",
        "outputId": "059bcef3-1222-475b-c488-e014557c4755"
      },
      "outputs": [
        {
          "data": {
            "text/plain": [
              "2"
            ]
          },
          "execution_count": 332,
          "metadata": {},
          "output_type": "execute_result"
        }
      ],
      "source": [
        "train_labels[7]"
      ]
    },
    {
      "cell_type": "code",
      "execution_count": null,
      "metadata": {
        "colab": {
          "base_uri": "https://localhost:8080/"
        },
        "id": "n5IWDSbYwqWn",
        "outputId": "73b2fca1-b602-4f9d-90a1-47788083013f"
      },
      "outputs": [
        {
          "data": {
            "text/plain": [
              "10"
            ]
          },
          "execution_count": 333,
          "metadata": {},
          "output_type": "execute_result"
        }
      ],
      "source": [
        "class_names = [\"T-shirt/top\",\"Trouser\",\"Pullover\",\"Dress\",\"Coat\",\"Sandal\",\"Shirt\",\"Sneaker\",\"Bag\",\"Ankle boot\"]\n",
        "\n",
        "len(class_names)"
      ]
    },
    {
      "cell_type": "code",
      "execution_count": null,
      "metadata": {
        "colab": {
          "base_uri": "https://localhost:8080/",
          "height": 469
        },
        "id": "eyBUR-fwyHGY",
        "outputId": "78cdbd20-491f-4636-bbde-ca28754ea2c0"
      },
      "outputs": [
        {
          "data": {
            "text/plain": [
              "Text(0.5, 1.0, 'Coat')"
            ]
          },
          "execution_count": 334,
          "metadata": {},
          "output_type": "execute_result"
        },
        {
          "data": {
            "image/png": "[encoded data removed]",
            "text/plain": [
              "<Figure size 640x480 with 1 Axes>"
            ]
          },
          "metadata": {},
          "output_type": "display_data"
        }
      ],
      "source": [
        "index_of_choice = 2000\n",
        "plt.imshow(train_data[index_of_choice],cmap=plt.cm.binary)\n",
        "plt.title(class_names[train_labels[index_of_choice]])"
      ]
    },
    {
      "cell_type": "code",
      "execution_count": null,
      "metadata": {
        "colab": {
          "base_uri": "https://localhost:8080/",
          "height": 598
        },
        "id": "-fMmYCHSzJQY",
        "outputId": "ff15d939-915a-4749-c831-b6d18d17398a"
      },
      "outputs": [
        {
          "data": {
            "image/png": "[encoded data removed]",
            "text/plain": [
              "<Figure size 700x700 with 4 Axes>"
            ]
          },
          "metadata": {},
          "output_type": "display_data"
        }
      ],
      "source": [
        "import random\n",
        "\n",
        "plt.figure(figsize=(7,7))\n",
        "for i in range(4):\n",
        "  ax = plt.subplot(2,2,i+1)\n",
        "  rand_index = random.choice(range(len(train_data)))\n",
        "  plt.imshow(train_data[rand_index],cmap=plt.cm.binary)\n",
        "  plt.title(class_names[train_labels[rand_index]])\n",
        "  plt.axis(False)"
      ]
    },
    {
      "cell_type": "code",
      "execution_count": null,
      "metadata": {
        "colab": {
          "base_uri": "https://localhost:8080/"
        },
        "id": "wBES7YSl3Vmv",
        "outputId": "163d1994-e561-423d-a72a-32e10af8e7d9"
      },
      "outputs": [
        {
          "data": {
            "text/plain": [
              "(28, 28)"
            ]
          },
          "execution_count": 336,
          "metadata": {},
          "output_type": "execute_result"
        }
      ],
      "source": [
        "train_data[0].shape"
      ]
    },
    {
      "cell_type": "code",
      "execution_count": null,
      "metadata": {
        "colab": {
          "base_uri": "https://localhost:8080/"
        },
        "id": "dNcwvmOn4YNW",
        "outputId": "01580c7d-6ea5-44a0-b0f2-3e8142f0abaa"
      },
      "outputs": [
        {
          "data": {
            "text/plain": [
              "10"
            ]
          },
          "execution_count": 337,
          "metadata": {},
          "output_type": "execute_result"
        }
      ],
      "source": [
        "len(class_names)"
      ]
    },
    {
      "cell_type": "code",
      "execution_count": null,
      "metadata": {
        "colab": {
          "base_uri": "https://localhost:8080/"
        },
        "id": "Mb-5GgZK7d3G",
        "outputId": "37cc062c-125e-49e0-e211-ef5038fe5503"
      },
      "outputs": [
        {
          "data": {
            "text/plain": [
              "(None, 784)"
            ]
          },
          "execution_count": 338,
          "metadata": {},
          "output_type": "execute_result"
        }
      ],
      "source": [
        "flatten_model = tf.keras.Sequential([tf.keras.layers.Flatten(input_shape=(28,28))])\n",
        "flatten_model.output_shape"
      ]
    },
    {
      "cell_type": "code",
      "execution_count": null,
      "metadata": {
        "colab": {
          "base_uri": "https://localhost:8080/"
        },
        "id": "mleEiAv578Jr",
        "outputId": "951c0ac1-cf68-4db8-d838-0002694907fd"
      },
      "outputs": [
        {
          "data": {
            "text/plain": [
              "784"
            ]
          },
          "execution_count": 339,
          "metadata": {},
          "output_type": "execute_result"
        }
      ],
      "source": [
        "28*28"
      ]
    },
    {
      "cell_type": "code",
      "execution_count": null,
      "metadata": {
        "colab": {
          "base_uri": "https://localhost:8080/"
        },
        "id": "ob3x1Cht6hFW",
        "outputId": "46c94fd4-afe0-41af-e836-9eaa5c5227ce"
      },
      "outputs": [
        {
          "data": {
            "text/plain": [
              "[PhysicalDevice(name='/physical_device:CPU:0', device_type='CPU'),\n",
              " PhysicalDevice(name='/physical_device:GPU:0', device_type='GPU')]"
            ]
          },
          "execution_count": 341,
          "metadata": {},
          "output_type": "execute_result"
        }
      ],
      "source": [
        "tf.config.list_physical_devices()"
      ]
    },
    {
      "cell_type": "code",
      "execution_count": null,
      "metadata": {
        "colab": {
          "base_uri": "https://localhost:8080/"
        },
        "id": "vz54LI4UAe4D",
        "outputId": "370a2e60-6f56-4a26-8385-5b79b8cd356a"
      },
      "outputs": [
        {
          "data": {
            "text/plain": [
              "(0, 255)"
            ]
          },
          "execution_count": 344,
          "metadata": {},
          "output_type": "execute_result"
        }
      ],
      "source": [
        "train_data.min(),train_data.max()"
      ]
    },
    {
      "cell_type": "code",
      "execution_count": null,
      "metadata": {
        "colab": {
          "base_uri": "https://localhost:8080/"
        },
        "id": "7gzl73_NCfPJ",
        "outputId": "9ce73728-b3f2-432f-cf22-f9421b65b7e1"
      },
      "outputs": [
        {
          "data": {
            "text/plain": [
              "(0.0, 1.0)"
            ]
          },
          "execution_count": 345,
          "metadata": {},
          "output_type": "execute_result"
        }
      ],
      "source": [
        "train_data_norm = train_data / 255.0\n",
        "test_data_norm = test_data / 255.0\n",
        "\n",
        "train_data_norm.min(),train_data_norm.max()"
      ]
    },
    {
      "cell_type": "code",
      "execution_count": null,
      "metadata": {
        "colab": {
          "base_uri": "https://localhost:8080/"
        },
        "id": "X0XSW7GoDmr3",
        "outputId": "b6bf2e55-cd43-4ed9-e927-02c7dde9ed36"
      },
      "outputs": [
        {
          "name": "stdout",
          "output_type": "stream",
          "text": [
            "Epoch 1/10\n",
            "1875/1875 [==============================] - 12s 6ms/step - loss: 1.0918 - accuracy: 0.5796 - val_loss: 0.7806 - val_accuracy: 0.7224\n",
            "Epoch 2/10\n",
            "1875/1875 [==============================] - 9s 5ms/step - loss: 0.7032 - accuracy: 0.7577 - val_loss: 0.6829 - val_accuracy: 0.7795\n",
            "Epoch 3/10\n",
            "1875/1875 [==============================] - 10s 5ms/step - loss: 0.6238 - accuracy: 0.7904 - val_loss: 0.6278 - val_accuracy: 0.7917\n",
            "Epoch 4/10\n",
            "1875/1875 [==============================] - 10s 6ms/step - loss: 0.5912 - accuracy: 0.7988 - val_loss: 0.6024 - val_accuracy: 0.8020\n",
            "Epoch 5/10\n",
            "1875/1875 [==============================] - 10s 5ms/step - loss: 0.5702 - accuracy: 0.8048 - val_loss: 0.5869 - val_accuracy: 0.8061\n",
            "Epoch 6/10\n",
            "1875/1875 [==============================] - 8s 4ms/step - loss: 0.5535 - accuracy: 0.8107 - val_loss: 0.5854 - val_accuracy: 0.8050\n",
            "Epoch 7/10\n",
            "1875/1875 [==============================] - 8s 4ms/step - loss: 0.5392 - accuracy: 0.8157 - val_loss: 0.5787 - val_accuracy: 0.8001\n",
            "Epoch 8/10\n",
            "1875/1875 [==============================] - 7s 4ms/step - loss: 0.5288 - accuracy: 0.8174 - val_loss: 0.5635 - val_accuracy: 0.8103\n",
            "Epoch 9/10\n",
            "1875/1875 [==============================] - 8s 4ms/step - loss: 0.5189 - accuracy: 0.8222 - val_loss: 0.5509 - val_accuracy: 0.8134\n",
            "Epoch 10/10\n",
            "1875/1875 [==============================] - 9s 5ms/step - loss: 0.5136 - accuracy: 0.8231 - val_loss: 0.5501 - val_accuracy: 0.8121\n"
          ]
        }
      ],
      "source": [
        "tf.random.set_seed(42)\n",
        "model_12 = tf.keras.Sequential([\n",
        "    tf.keras.layers.Flatten(input_shape=(28,28)),\n",
        "    tf.keras.layers.Dense(4,activation=\"relu\"),\n",
        "    tf.keras.layers.Dense(4,activation=\"relu\"),\n",
        "    tf.keras.layers.Dense(10,activation=\"softmax\")\n",
        "])\n",
        "\n",
        "model_12.compile(loss=tf.keras.losses.SparseCategoricalCrossentropy(),\n",
        "                 optimizer=tf.keras.optimizers.Adam(),\n",
        "                 metrics=[\"accuracy\"])\n",
        "\n",
        "norm_history = model_12.fit(train_data_norm,\n",
        "             train_labels,\n",
        "             epochs=10,\n",
        "             validation_data=(test_data_norm,test_labels))"
      ]
    },
    {
      "cell_type": "code",
      "execution_count": null,
      "metadata": {
        "colab": {
          "base_uri": "https://localhost:8080/",
          "height": 904
        },
        "id": "AAD8XtvUIfxH",
        "outputId": "91772c38-2b24-4a52-99a8-d9e9ca228775"
      },
      "outputs": [
        {
          "data": {
            "text/plain": [
              "<Axes: title={'center': 'Normalized data'}>"
            ]
          },
          "execution_count": 347,
          "metadata": {},
          "output_type": "execute_result"
        },
        {
          "data": {
            "image/png": "[encoded data removed]",
            "text/plain": [
              "<Figure size 640x480 with 1 Axes>"
            ]
          },
          "metadata": {},
          "output_type": "display_data"
        },
        {
          "data": {
            "image/png": "[encoded data removed]",
            "text/plain": [
              "<Figure size 640x480 with 1 Axes>"
            ]
          },
          "metadata": {},
          "output_type": "display_data"
        }
      ],
      "source": [
        "import pandas as pd\n",
        "pd.DataFrame(non_norm_history.history).plot(title=\"Non Normalized data\")\n",
        "pd.DataFrame(norm_history.history).plot(title=\"Normalized data\")"
      ]
    },
    {
      "cell_type": "code",
      "execution_count": null,
      "metadata": {
        "colab": {
          "base_uri": "https://localhost:8080/"
        },
        "id": "8uE0ojFQSo0v",
        "outputId": "5cd45e39-5c2b-4c8c-8509-59894cd2de7d"
      },
      "outputs": [
        {
          "name": "stdout",
          "output_type": "stream",
          "text": [
            "Epoch 1/40\n",
            "1875/1875 [==============================] - 9s 4ms/step - loss: 1.3751 - accuracy: 0.5037 - val_loss: 0.9015 - val_accuracy: 0.6812 - lr: 0.0010\n",
            "Epoch 2/40\n",
            "1875/1875 [==============================] - 8s 4ms/step - loss: 0.7427 - accuracy: 0.7267 - val_loss: 0.6962 - val_accuracy: 0.7324 - lr: 0.0011\n",
            "Epoch 3/40\n",
            "1875/1875 [==============================] - 8s 4ms/step - loss: 0.6470 - accuracy: 0.7638 - val_loss: 0.6557 - val_accuracy: 0.7580 - lr: 0.0013\n",
            "Epoch 4/40\n",
            "1875/1875 [==============================] - 7s 4ms/step - loss: 0.6100 - accuracy: 0.7803 - val_loss: 0.6480 - val_accuracy: 0.7650 - lr: 0.0014\n",
            "Epoch 5/40\n",
            "1875/1875 [==============================] - 8s 4ms/step - loss: 0.5922 - accuracy: 0.7901 - val_loss: 0.6157 - val_accuracy: 0.7813 - lr: 0.0016\n",
            "Epoch 6/40\n",
            "1875/1875 [==============================] - 9s 5ms/step - loss: 0.5763 - accuracy: 0.7986 - val_loss: 0.6407 - val_accuracy: 0.7733 - lr: 0.0018\n",
            "Epoch 7/40\n",
            "1875/1875 [==============================] - 7s 4ms/step - loss: 0.5715 - accuracy: 0.8027 - val_loss: 0.5957 - val_accuracy: 0.7926 - lr: 0.0020\n",
            "Epoch 8/40\n",
            "1875/1875 [==============================] - 7s 4ms/step - loss: 0.5640 - accuracy: 0.8040 - val_loss: 0.6105 - val_accuracy: 0.7891 - lr: 0.0022\n",
            "Epoch 9/40\n",
            "1875/1875 [==============================] - 9s 5ms/step - loss: 0.5599 - accuracy: 0.8059 - val_loss: 0.6074 - val_accuracy: 0.7936 - lr: 0.0025\n",
            "Epoch 10/40\n",
            "1875/1875 [==============================] - 6s 3ms/step - loss: 0.5594 - accuracy: 0.8066 - val_loss: 0.5898 - val_accuracy: 0.7935 - lr: 0.0028\n",
            "Epoch 11/40\n",
            "1875/1875 [==============================] - 8s 4ms/step - loss: 0.5576 - accuracy: 0.8065 - val_loss: 0.5897 - val_accuracy: 0.7976 - lr: 0.0032\n",
            "Epoch 12/40\n",
            "1875/1875 [==============================] - 8s 4ms/step - loss: 0.5565 - accuracy: 0.8059 - val_loss: 0.6169 - val_accuracy: 0.7936 - lr: 0.0035\n",
            "Epoch 13/40\n",
            "1875/1875 [==============================] - 8s 4ms/step - loss: 0.5562 - accuracy: 0.8075 - val_loss: 0.5955 - val_accuracy: 0.7985 - lr: 0.0040\n",
            "Epoch 14/40\n",
            "1875/1875 [==============================] - 7s 4ms/step - loss: 0.5561 - accuracy: 0.8068 - val_loss: 0.5713 - val_accuracy: 0.7995 - lr: 0.0045\n",
            "Epoch 15/40\n",
            "1875/1875 [==============================] - 6s 3ms/step - loss: 0.5580 - accuracy: 0.8059 - val_loss: 0.5686 - val_accuracy: 0.8022 - lr: 0.0050\n",
            "Epoch 16/40\n",
            "1875/1875 [==============================] - 7s 4ms/step - loss: 0.5603 - accuracy: 0.8047 - val_loss: 0.6028 - val_accuracy: 0.7906 - lr: 0.0056\n",
            "Epoch 17/40\n",
            "1875/1875 [==============================] - 9s 5ms/step - loss: 0.5561 - accuracy: 0.8078 - val_loss: 0.6081 - val_accuracy: 0.7885 - lr: 0.0063\n",
            "Epoch 18/40\n",
            "1875/1875 [==============================] - 9s 5ms/step - loss: 0.5624 - accuracy: 0.8046 - val_loss: 0.5827 - val_accuracy: 0.8007 - lr: 0.0071\n",
            "Epoch 19/40\n",
            "1875/1875 [==============================] - 8s 4ms/step - loss: 0.5643 - accuracy: 0.8034 - val_loss: 0.6150 - val_accuracy: 0.7887 - lr: 0.0079\n",
            "Epoch 20/40\n",
            "1875/1875 [==============================] - 7s 4ms/step - loss: 0.5670 - accuracy: 0.8026 - val_loss: 0.6072 - val_accuracy: 0.7969 - lr: 0.0089\n",
            "Epoch 21/40\n",
            "1875/1875 [==============================] - 8s 4ms/step - loss: 0.5687 - accuracy: 0.8026 - val_loss: 0.6374 - val_accuracy: 0.7789 - lr: 0.0100\n",
            "Epoch 22/40\n",
            "1875/1875 [==============================] - 7s 3ms/step - loss: 0.5708 - accuracy: 0.8024 - val_loss: 0.5945 - val_accuracy: 0.7951 - lr: 0.0112\n",
            "Epoch 23/40\n",
            "1875/1875 [==============================] - 8s 4ms/step - loss: 0.5827 - accuracy: 0.7989 - val_loss: 0.6398 - val_accuracy: 0.7712 - lr: 0.0126\n",
            "Epoch 24/40\n",
            "1875/1875 [==============================] - 7s 4ms/step - loss: 0.5821 - accuracy: 0.7999 - val_loss: 0.6155 - val_accuracy: 0.7960 - lr: 0.0141\n",
            "Epoch 25/40\n",
            "1875/1875 [==============================] - 6s 3ms/step - loss: 0.5914 - accuracy: 0.7966 - val_loss: 0.6165 - val_accuracy: 0.7855 - lr: 0.0158\n",
            "Epoch 26/40\n",
            "1875/1875 [==============================] - 7s 4ms/step - loss: 0.6068 - accuracy: 0.7916 - val_loss: 0.6701 - val_accuracy: 0.7670 - lr: 0.0178\n",
            "Epoch 27/40\n",
            "1875/1875 [==============================] - 6s 3ms/step - loss: 0.6136 - accuracy: 0.7871 - val_loss: 0.6415 - val_accuracy: 0.7785 - lr: 0.0200\n",
            "Epoch 28/40\n",
            "1875/1875 [==============================] - 7s 4ms/step - loss: 0.6276 - accuracy: 0.7820 - val_loss: 0.6833 - val_accuracy: 0.7660 - lr: 0.0224\n",
            "Epoch 29/40\n",
            "1875/1875 [==============================] - 6s 3ms/step - loss: 0.6370 - accuracy: 0.7787 - val_loss: 0.6924 - val_accuracy: 0.7700 - lr: 0.0251\n",
            "Epoch 30/40\n",
            "1875/1875 [==============================] - 7s 4ms/step - loss: 0.6619 - accuracy: 0.7669 - val_loss: 0.6952 - val_accuracy: 0.7718 - lr: 0.0282\n",
            "Epoch 31/40\n",
            "1875/1875 [==============================] - 6s 3ms/step - loss: 0.6854 - accuracy: 0.7558 - val_loss: 0.7524 - val_accuracy: 0.7426 - lr: 0.0316\n",
            "Epoch 32/40\n",
            "1875/1875 [==============================] - 7s 4ms/step - loss: 0.7084 - accuracy: 0.7488 - val_loss: 0.7112 - val_accuracy: 0.7558 - lr: 0.0355\n",
            "Epoch 33/40\n",
            "1875/1875 [==============================] - 6s 3ms/step - loss: 0.7487 - accuracy: 0.7325 - val_loss: 0.7299 - val_accuracy: 0.7666 - lr: 0.0398\n",
            "Epoch 34/40\n",
            "1875/1875 [==============================] - 7s 4ms/step - loss: 0.8001 - accuracy: 0.7014 - val_loss: 0.9124 - val_accuracy: 0.6729 - lr: 0.0447\n",
            "Epoch 35/40\n",
            "1875/1875 [==============================] - 6s 3ms/step - loss: 0.8182 - accuracy: 0.6984 - val_loss: 0.8600 - val_accuracy: 0.7193 - lr: 0.0501\n",
            "Epoch 36/40\n",
            "1875/1875 [==============================] - 7s 4ms/step - loss: 1.0200 - accuracy: 0.5920 - val_loss: 0.9984 - val_accuracy: 0.5836 - lr: 0.0562\n",
            "Epoch 37/40\n",
            "1875/1875 [==============================] - 6s 3ms/step - loss: 1.0485 - accuracy: 0.5723 - val_loss: 1.1922 - val_accuracy: 0.4896 - lr: 0.0631\n",
            "Epoch 38/40\n",
            "1875/1875 [==============================] - 6s 3ms/step - loss: 1.2316 - accuracy: 0.4801 - val_loss: 1.2875 - val_accuracy: 0.4381 - lr: 0.0708\n",
            "Epoch 39/40\n",
            "1875/1875 [==============================] - 7s 4ms/step - loss: 1.4520 - accuracy: 0.3812 - val_loss: 1.3908 - val_accuracy: 0.4084 - lr: 0.0794\n",
            "Epoch 40/40\n",
            "1875/1875 [==============================] - 8s 4ms/step - loss: 1.3769 - accuracy: 0.3914 - val_loss: 1.5023 - val_accuracy: 0.3523 - lr: 0.0891\n"
          ]
        }
      ],
      "source": [
        "tf.random.set_seed(42)\n",
        "model_13 = tf.keras.Sequential([\n",
        "    tf.keras.layers.Flatten(input_shape=(28,28)),\n",
        "    tf.keras.layers.Dense(4,activation=\"relu\"),\n",
        "    tf.keras.layers.Dense(4,activation=\"relu\"),\n",
        "    tf.keras.layers.Dense(10,activation=\"softmax\")\n",
        "])\n",
        "\n",
        "model_13.compile(loss=tf.keras.losses.SparseCategoricalCrossentropy(),\n",
        "                 optimizer=tf.keras.optimizers.Adam(),\n",
        "                 metrics=[\"accuracy\"])\n",
        "\n",
        "lr_scheduler = tf.keras.callbacks.LearningRateScheduler(lambda epoch: 1e-3 * 10**(epoch/20))\n",
        "\n",
        "find_lr_history = model_13.fit(train_data_norm,\n",
        "                               train_labels,\n",
        "                               epochs=40,\n",
        "                               validation_data=(test_data_norm,test_labels),\n",
        "                               callbacks=[lr_scheduler])"
      ]
    },
    {
      "cell_type": "code",
      "execution_count": null,
      "metadata": {
        "colab": {
          "base_uri": "https://localhost:8080/",
          "height": 493
        },
        "id": "6w_r1h02U8BR",
        "outputId": "dc67b140-e19d-4557-800a-2ec9355b7748"
      },
      "outputs": [
        {
          "data": {
            "text/plain": [
              "Text(0.5, 1.0, 'Finding the ideal learing rete')"
            ]
          },
          "execution_count": 349,
          "metadata": {},
          "output_type": "execute_result"
        },
        {
          "data": {
            "image/png": "[encoded data removed]",
            "text/plain": [
              "<Figure size 640x480 with 1 Axes>"
            ]
          },
          "metadata": {},
          "output_type": "display_data"
        }
      ],
      "source": [
        "import numpy as np\n",
        "import matplotlib.pyplot as plt\n",
        "\n",
        "lrs = 1e-3 * (10**(tf.range(40)/20))\n",
        "plt.semilogx(lrs,find_lr_history.history[\"loss\"])\n",
        "plt.xlabel(\"learning rate\")\n",
        "plt.ylabel(\"Loss\")\n",
        "plt.title(\"Finding the ideal learing rete\")"
      ]
    },
    {
      "cell_type": "code",
      "execution_count": null,
      "metadata": {
        "colab": {
          "base_uri": "https://localhost:8080/"
        },
        "id": "k8PQjNNyXwnz",
        "outputId": "e7b0ec6b-ff6a-484a-9712-9a586ea6d35b"
      },
      "outputs": [
        {
          "data": {
            "text/plain": [
              "0.001"
            ]
          },
          "execution_count": 350,
          "metadata": {},
          "output_type": "execute_result"
        }
      ],
      "source": [
        "10 **-3"
      ]
    },
    {
      "cell_type": "code",
      "execution_count": null,
      "metadata": {
        "colab": {
          "base_uri": "https://localhost:8080/"
        },
        "id": "_bctLUQ9YNK6",
        "outputId": "f9265832-265d-46ec-daec-e00559141920"
      },
      "outputs": [
        {
          "name": "stderr",
          "output_type": "stream",
          "text": [
            "WARNING:absl:`lr` is deprecated in Keras optimizer, please use `learning_rate` or use the legacy optimizer, e.g.,tf.keras.optimizers.legacy.Adam.\n"
          ]
        },
        {
          "name": "stdout",
          "output_type": "stream",
          "text": [
            "Epoch 1/20\n",
            "1875/1875 [==============================] - 8s 4ms/step - loss: 1.1701 - accuracy: 0.6090 - val_loss: 0.8127 - val_accuracy: 0.7528\n",
            "Epoch 2/20\n",
            "1875/1875 [==============================] - 6s 3ms/step - loss: 0.7276 - accuracy: 0.7668 - val_loss: 0.7011 - val_accuracy: 0.7699\n",
            "Epoch 3/20\n",
            "1875/1875 [==============================] - 7s 3ms/step - loss: 0.6461 - accuracy: 0.7833 - val_loss: 0.6499 - val_accuracy: 0.7795\n",
            "Epoch 4/20\n",
            "1875/1875 [==============================] - 6s 3ms/step - loss: 0.6099 - accuracy: 0.7917 - val_loss: 0.6345 - val_accuracy: 0.7836\n",
            "Epoch 5/20\n",
            "1875/1875 [==============================] - 7s 4ms/step - loss: 0.5922 - accuracy: 0.7983 - val_loss: 0.6338 - val_accuracy: 0.7803\n",
            "Epoch 6/20\n",
            "1875/1875 [==============================] - 6s 3ms/step - loss: 0.5799 - accuracy: 0.8005 - val_loss: 0.6167 - val_accuracy: 0.7868\n",
            "Epoch 7/20\n",
            "1875/1875 [==============================] - 8s 4ms/step - loss: 0.5717 - accuracy: 0.8022 - val_loss: 0.6361 - val_accuracy: 0.7779\n",
            "Epoch 8/20\n",
            "1875/1875 [==============================] - 6s 3ms/step - loss: 0.5659 - accuracy: 0.8035 - val_loss: 0.6010 - val_accuracy: 0.7924\n",
            "Epoch 9/20\n",
            "1875/1875 [==============================] - 6s 3ms/step - loss: 0.5593 - accuracy: 0.8066 - val_loss: 0.5946 - val_accuracy: 0.7928\n",
            "Epoch 10/20\n",
            "1875/1875 [==============================] - 6s 3ms/step - loss: 0.5559 - accuracy: 0.8050 - val_loss: 0.5899 - val_accuracy: 0.7951\n",
            "Epoch 11/20\n",
            "1875/1875 [==============================] - 7s 4ms/step - loss: 0.5524 - accuracy: 0.8069 - val_loss: 0.6066 - val_accuracy: 0.7900\n",
            "Epoch 12/20\n",
            "1875/1875 [==============================] - 6s 3ms/step - loss: 0.5484 - accuracy: 0.8090 - val_loss: 0.5969 - val_accuracy: 0.7942\n",
            "Epoch 13/20\n",
            "1875/1875 [==============================] - 7s 3ms/step - loss: 0.5464 - accuracy: 0.8098 - val_loss: 0.5862 - val_accuracy: 0.7992\n",
            "Epoch 14/20\n",
            "1875/1875 [==============================] - 6s 3ms/step - loss: 0.5426 - accuracy: 0.8107 - val_loss: 0.5899 - val_accuracy: 0.8006\n",
            "Epoch 15/20\n",
            "1875/1875 [==============================] - 7s 4ms/step - loss: 0.5409 - accuracy: 0.8110 - val_loss: 0.5846 - val_accuracy: 0.8003\n",
            "Epoch 16/20\n",
            "1875/1875 [==============================] - 6s 3ms/step - loss: 0.5389 - accuracy: 0.8114 - val_loss: 0.5903 - val_accuracy: 0.7982\n",
            "Epoch 17/20\n",
            "1875/1875 [==============================] - 7s 4ms/step - loss: 0.5363 - accuracy: 0.8116 - val_loss: 0.5820 - val_accuracy: 0.8001\n",
            "Epoch 18/20\n",
            "1875/1875 [==============================] - 6s 3ms/step - loss: 0.5361 - accuracy: 0.8130 - val_loss: 0.5892 - val_accuracy: 0.7977\n",
            "Epoch 19/20\n",
            "1875/1875 [==============================] - 7s 4ms/step - loss: 0.5324 - accuracy: 0.8135 - val_loss: 0.5847 - val_accuracy: 0.7979\n",
            "Epoch 20/20\n",
            "1875/1875 [==============================] - 6s 3ms/step - loss: 0.5320 - accuracy: 0.8140 - val_loss: 0.5833 - val_accuracy: 0.8013\n"
          ]
        }
      ],
      "source": [
        "tf.random.set_seed(42)\n",
        "model_14 = tf.keras.Sequential([\n",
        "    tf.keras.layers.Flatten(input_shape=(28,28)),\n",
        "    tf.keras.layers.Dense(4,activation=\"relu\"),\n",
        "    tf.keras.layers.Dense(4,activation=\"relu\"),\n",
        "    tf.keras.layers.Dense(10,activation=\"softmax\")\n",
        "])\n",
        "\n",
        "model_14.compile(loss=tf.keras.losses.SparseCategoricalCrossentropy(),\n",
        "                 optimizer=tf.keras.optimizers.Adam(lr=0.001),\n",
        "                 metrics=[\"accuracy\"])\n",
        "\n",
        "norm_history_14 = model_14.fit(train_data_norm,\n",
        "             train_labels,\n",
        "             epochs=20,\n",
        "             validation_data=(test_data_norm,test_labels))"
      ]
    },
    {
      "cell_type": "code",
      "execution_count": null,
      "metadata": {
        "colab": {
          "base_uri": "https://localhost:8080/"
        },
        "id": "3ahsBRXRi5PH",
        "outputId": "d04ed777-04a5-4ff1-9a17-12fe666e881f"
      },
      "outputs": [
        {
          "data": {
            "text/plain": [
              "['T-shirt/top',\n",
              " 'Trouser',\n",
              " 'Pullover',\n",
              " 'Dress',\n",
              " 'Coat',\n",
              " 'Sandal',\n",
              " 'Shirt',\n",
              " 'Sneaker',\n",
              " 'Bag',\n",
              " 'Ankle boot']"
            ]
          },
          "execution_count": 389,
          "metadata": {},
          "output_type": "execute_result"
        }
      ],
      "source": [
        "class_names"
      ]
    },
    {
      "cell_type": "code",
      "execution_count": null,
      "metadata": {
        "colab": {
          "base_uri": "https://localhost:8080/"
        },
        "id": "E5BOfP3bi9W0",
        "outputId": "5f87329d-f677-45d8-8e43-014cb8911bf9"
      },
      "outputs": [
        {
          "name": "stdout",
          "output_type": "stream",
          "text": [
            "313/313 [==============================] - 1s 2ms/step\n"
          ]
        },
        {
          "data": {
            "text/plain": [
              "array([[6.23939557e-16, 4.95606334e-11, 2.28715095e-07, 2.56868485e-16,\n",
              "        1.71571199e-04, 8.42340961e-02, 2.65263922e-10, 6.28703386e-02,\n",
              "        2.47464312e-04, 8.52476299e-01],\n",
              "       [1.76258298e-04, 5.27460497e-12, 8.67340982e-01, 1.38556033e-11,\n",
              "        9.27918330e-02, 1.09921134e-14, 3.96906622e-02, 4.47690081e-23,\n",
              "        2.12213763e-07, 2.81310553e-09],\n",
              "       [1.06424594e-03, 9.70927894e-01, 1.29608240e-03, 1.89253762e-02,\n",
              "        3.93132039e-04, 4.21989383e-03, 4.95094049e-04, 2.37938808e-03,\n",
              "        1.27145569e-04, 1.71823005e-04],\n",
              "       [1.25333900e-03, 9.65671301e-01, 1.49008562e-03, 2.18394585e-02,\n",
              "        4.61729825e-04, 5.48329763e-03, 5.71742246e-04, 2.87137297e-03,\n",
              "        1.56574926e-04, 2.01102375e-04],\n",
              "       [1.28927201e-01, 4.52162186e-03, 3.18612248e-01, 8.42375495e-03,\n",
              "        1.00877196e-01, 1.97914196e-09, 4.38104779e-01, 1.56515981e-11,\n",
              "        5.32878039e-04, 2.38662039e-07]], dtype=float32)"
            ]
          },
          "execution_count": 390,
          "metadata": {},
          "output_type": "execute_result"
        }
      ],
      "source": [
        "y_probs = model_14.predict(test_data_norm) \n",
        "y_probs[:5]"
      ]
    },
    {
      "cell_type": "code",
      "execution_count": null,
      "metadata": {
        "colab": {
          "base_uri": "https://localhost:8080/"
        },
        "id": "YahHV5EJkjVD",
        "outputId": "ad3037b2-316f-44b2-e1f5-73e51a1c477f"
      },
      "outputs": [
        {
          "data": {
            "text/plain": [
              "array([6.2393956e-16, 4.9560633e-11, 2.2871509e-07, 2.5686849e-16,\n",
              "       1.7157120e-04, 8.4234096e-02, 2.6526392e-10, 6.2870339e-02,\n",
              "       2.4746431e-04, 8.5247630e-01], dtype=float32)"
            ]
          },
          "execution_count": 391,
          "metadata": {},
          "output_type": "execute_result"
        }
      ],
      "source": [
        "y_probs[0]"
      ]
    },
    {
      "cell_type": "code",
      "execution_count": null,
      "metadata": {
        "colab": {
          "base_uri": "https://localhost:8080/"
        },
        "id": "cSqSV-j7lrMR",
        "outputId": "7676528a-aa78-47ea-d610-8f8baa6df15f"
      },
      "outputs": [
        {
          "data": {
            "text/plain": [
              "['T-shirt/top',\n",
              " 'Trouser',\n",
              " 'Pullover',\n",
              " 'Dress',\n",
              " 'Coat',\n",
              " 'Sandal',\n",
              " 'Shirt',\n",
              " 'Sneaker',\n",
              " 'Bag',\n",
              " 'Ankle boot']"
            ]
          },
          "execution_count": 392,
          "metadata": {},
          "output_type": "execute_result"
        }
      ],
      "source": [
        "class_names"
      ]
    },
    {
      "cell_type": "code",
      "execution_count": null,
      "metadata": {
        "colab": {
          "base_uri": "https://localhost:8080/"
        },
        "id": "0INUeDVXm_Wa",
        "outputId": "39bd9eac-b71b-4816-e903-260437262ce9"
      },
      "outputs": [
        {
          "data": {
            "text/plain": [
              "(array([6.2393956e-16, 4.9560633e-11, 2.2871509e-07, 2.5686849e-16,\n",
              "        1.7157120e-04, 8.4234096e-02, 2.6526392e-10, 6.2870339e-02,\n",
              "        2.4746431e-04, 8.5247630e-01], dtype=float32),\n",
              " <tf.Tensor: shape=(), dtype=int64, numpy=9>)"
            ]
          },
          "execution_count": 393,
          "metadata": {},
          "output_type": "execute_result"
        }
      ],
      "source": [
        "y_probs[0], tf.argmax(y_probs[0])"
      ]
    },
    {
      "cell_type": "code",
      "execution_count": null,
      "metadata": {
        "colab": {
          "base_uri": "https://localhost:8080/"
        },
        "id": "HNjPGzE8nNhB",
        "outputId": "8d045af3-cf46-4b43-cd05-4b3496e3c660"
      },
      "outputs": [
        {
          "data": {
            "text/plain": [
              "(array([6.2393956e-16, 4.9560633e-11, 2.2871509e-07, 2.5686849e-16,\n",
              "        1.7157120e-04, 8.4234096e-02, 2.6526392e-10, 6.2870339e-02,\n",
              "        2.4746431e-04, 8.5247630e-01], dtype=float32),\n",
              " <tf.Tensor: shape=(), dtype=int64, numpy=9>,\n",
              " 'Ankle boot')"
            ]
          },
          "execution_count": 394,
          "metadata": {},
          "output_type": "execute_result"
        }
      ],
      "source": [
        "y_probs[0], tf.argmax(y_probs[0]), class_names[tf.argmax(y_probs[0])]"
      ]
    },
    {
      "cell_type": "code",
      "execution_count": null,
      "metadata": {
        "colab": {
          "base_uri": "https://localhost:8080/"
        },
        "id": "RoELuCtOnz-u",
        "outputId": "d76c9446-5170-4749-983a-39e02a91c00a"
      },
      "outputs": [
        {
          "data": {
            "text/plain": [
              "array([9, 2, 1, 1, 6, 1, 4, 6, 5, 7])"
            ]
          },
          "execution_count": 395,
          "metadata": {},
          "output_type": "execute_result"
        }
      ],
      "source": [
        "y_pred = y_probs.argmax(axis=1)\n",
        "y_pred[:10]"
      ]
    },
    {
      "cell_type": "code",
      "execution_count": null,
      "metadata": {
        "colab": {
          "base_uri": "https://localhost:8080/"
        },
        "id": "cO9ctnGdpG1R",
        "outputId": "6d087f1b-76c2-4f1f-ccab-42ba152dd1e4"
      },
      "outputs": [
        {
          "data": {
            "text/plain": [
              "array([9, 2, 1, ..., 8, 1, 5], dtype=uint8)"
            ]
          },
          "execution_count": 396,
          "metadata": {},
          "output_type": "execute_result"
        }
      ],
      "source": [
        "test_labels"
      ]
    },
    {
      "cell_type": "code",
      "execution_count": null,
      "metadata": {
        "id": "-BOVdLIhu5PN"
      },
      "outputs": [],
      "source": [
        "import random\n",
        "def plot_random_image(model,images,true_labels,classes):\n",
        "  \"\"\"\n",
        "  picks a random image,plots it and labels it with a prediction and truth label.\n",
        "  \"\"\"\n",
        "  i = random.randint(0,len(images))\n",
        "\n",
        "  target_image = images[i]\n",
        "  pred_probs = model.predict(target_image.reshape(1,28,28))\n",
        "  pred_label = classes[pred_probs.argmax()]\n",
        "  true_label = [true_labels[i]]\n",
        "\n",
        "  plt.imshow(target_image,cmap=plt.cm.binary)\n",
        "\n",
        "  if pred_label == true_label:\n",
        "    color = \"green\"\n",
        "  else:\n",
        "    color = \"red\"\n",
        "\n",
        "  plt.xlabel(\"pred: {} {:2.0f}%(True: {})\".format(pred_label,\n",
        "                                                  100*tf.reduce_max(pred_probs),\n",
        "                                                  true_label),\n",
        "             color=color)  "
      ]
    },
    {
      "cell_type": "code",
      "execution_count": null,
      "metadata": {
        "colab": {
          "base_uri": "https://localhost:8080/",
          "height": 466
        },
        "id": "k-cc1kWa8Ahp",
        "outputId": "82155234-63f0-4136-c97f-b06ac52f3ccc"
      },
      "outputs": [
        {
          "name": "stdout",
          "output_type": "stream",
          "text": [
            "1/1 [==============================] - 0s 52ms/step\n"
          ]
        },
        {
          "data": {
            "image/png": "[encoded data removed]",
            "text/plain": [
              "<Figure size 640x480 with 1 Axes>"
            ]
          },
          "metadata": {},
          "output_type": "display_data"
        }
      ],
      "source": [
        "plot_random_image(model=model_14,\n",
        "                  images=test_data,\n",
        "                  true_labels=test_labels,\n",
        "                  classes=class_names)"
      ]
    },
    {
      "cell_type": "code",
      "execution_count": null,
      "metadata": {
        "colab": {
          "base_uri": "https://localhost:8080/"
        },
        "id": "g2aES3VvFbH9",
        "outputId": "6b20df8f-dfe4-48e8-d593-9696efac4ee0"
      },
      "outputs": [
        {
          "data": {
            "text/plain": [
              "[<keras.layers.reshaping.flatten.Flatten at 0x7f4158a76680>,\n",
              " <keras.layers.core.dense.Dense at 0x7f4158aa8430>,\n",
              " <keras.layers.core.dense.Dense at 0x7f4158a74670>,\n",
              " <keras.layers.core.dense.Dense at 0x7f4158aa85b0>]"
            ]
          },
          "execution_count": 402,
          "metadata": {},
          "output_type": "execute_result"
        }
      ],
      "source": [
        "model_14.layers"
      ]
    },
    {
      "cell_type": "code",
      "execution_count": null,
      "metadata": {
        "colab": {
          "base_uri": "https://localhost:8080/"
        },
        "id": "fvjsErmVF6e3",
        "outputId": "3543b317-5d38-4d73-92ca-f5d69fb9ad7c"
      },
      "outputs": [
        {
          "data": {
            "text/plain": [
              "<keras.layers.core.dense.Dense at 0x7f4158aa8430>"
            ]
          },
          "execution_count": 403,
          "metadata": {},
          "output_type": "execute_result"
        }
      ],
      "source": [
        "model_14.layers[1]"
      ]
    },
    {
      "cell_type": "code",
      "execution_count": null,
      "metadata": {
        "colab": {
          "base_uri": "https://localhost:8080/"
        },
        "id": "U8-6NKbtGL9k",
        "outputId": "68b1ec38-57cb-48f5-fc6c-542565aa4b2f"
      },
      "outputs": [
        {
          "data": {
            "text/plain": [
              "(array([[-0.03147522,  0.7876385 , -0.41061068, -0.05601064],\n",
              "        [-0.25006303,  0.2853529 ,  0.59263766,  0.57578677],\n",
              "        [-0.68767333,  1.1761781 ,  0.55668044,  0.5637413 ],\n",
              "        ...,\n",
              "        [ 0.19736071, -0.2634265 ,  0.74528635, -0.16221723],\n",
              "        [ 0.07179734, -0.02368958,  0.74903774,  0.40810445],\n",
              "        [-0.30830044,  0.2602193 ,  0.2716731 ,  0.00746316]],\n",
              "       dtype=float32),\n",
              " (784, 4))"
            ]
          },
          "execution_count": 405,
          "metadata": {},
          "output_type": "execute_result"
        }
      ],
      "source": [
        "weigths,biases = model_14.layers[1].get_weights()\n",
        "weigths, weigths.shape"
      ]
    },
    {
      "cell_type": "code",
      "execution_count": null,
      "metadata": {
        "colab": {
          "base_uri": "https://localhost:8080/"
        },
        "id": "tCR10H9LG3y3",
        "outputId": "cf359ebc-aa77-4279-8e07-7548aedcd243"
      },
      "outputs": [
        {
          "data": {
            "text/plain": [
              "784"
            ]
          },
          "execution_count": 407,
          "metadata": {},
          "output_type": "execute_result"
        }
      ],
      "source": [
        "28*28"
      ]
    },
    {
      "cell_type": "code",
      "execution_count": null,
      "metadata": {
        "colab": {
          "base_uri": "https://localhost:8080/"
        },
        "id": "__mKntcDHRpY",
        "outputId": "ee3c22cc-caf7-4dce-e308-38e5979df3e6"
      },
      "outputs": [
        {
          "name": "stdout",
          "output_type": "stream",
          "text": [
            "Model: \"sequential_55\"\n",
            "_________________________________________________________________\n",
            " Layer (type)                Output Shape              Param #   \n",
            "=================================================================\n",
            " flatten_27 (Flatten)        (None, 784)               0         \n",
            "                                                                 \n",
            " dense_139 (Dense)           (None, 4)                 3140      \n",
            "                                                                 \n",
            " dense_140 (Dense)           (None, 4)                 20        \n",
            "                                                                 \n",
            " dense_141 (Dense)           (None, 10)                50        \n",
            "                                                                 \n",
            "=================================================================\n",
            "Total params: 3,210\n",
            "Trainable params: 3,210\n",
            "Non-trainable params: 0\n",
            "_________________________________________________________________\n"
          ]
        }
      ],
      "source": [
        "model_14.summary()"
      ]
    },
    {
      "cell_type": "markdown",
      "metadata": {
        "id": "N53d1C7OHTJM"
      },
      "source": [
        "now let's check out the bias vector"
      ]
    },
    {
      "cell_type": "code",
      "execution_count": null,
      "metadata": {
        "colab": {
          "base_uri": "https://localhost:8080/"
        },
        "id": "yjiK1JsZIsHs",
        "outputId": "b3940778-3207-45fe-bc40-967e0a821f86"
      },
      "outputs": [
        {
          "data": {
            "text/plain": [
              "(array([ 1.8520437,  2.049809 ,  1.4831795, -0.7959072], dtype=float32), (4,))"
            ]
          },
          "execution_count": 411,
          "metadata": {},
          "output_type": "execute_result"
        }
      ],
      "source": [
        "biases, biases.shape"
      ]
    },
    {
      "cell_type": "markdown",
      "metadata": {
        "id": "j_jxNv2eI8-o"
      },
      "source": [
        "weight matrix has one value per data point and bias vector has only one value in per hidden layer"
      ]
    },
    {
      "cell_type": "code",
      "execution_count": null,
      "metadata": {
        "colab": {
          "base_uri": "https://localhost:8080/",
          "height": 533
        },
        "id": "fzfXhPjeLdnl",
        "outputId": "a71fe9c7-1211-4553-bc2b-6c6969520f25"
      },
      "outputs": [
        {
          "data": {
            "image/png": "[encoded data removed]",
            "text/plain": [
              "<IPython.core.display.Image object>"
            ]
          },
          "execution_count": 412,
          "metadata": {},
          "output_type": "execute_result"
        }
      ],
      "source": [
        "from tensorflow.keras.utils import plot_model\n",
        "plot_model(model_14,show_shapes=True)"
      ]
    },
    {
      "cell_type": "code",
      "execution_count": null,
      "metadata": {
        "id": "QJy-gM7bL-qh"
      },
      "outputs": [],
      "source": []
    }
  ],
  "metadata": {
    "accelerator": "GPU",
    "colab": {
      "gpuType": "T4",
      "provenance": []
    },
    "kernelspec": {
      "display_name": "Python 3",
      "name": "python3"
    },
    "language_info": {
      "name": "python"
    }
  },
  "nbformat": 4,
  "nbformat_minor": 0
}
